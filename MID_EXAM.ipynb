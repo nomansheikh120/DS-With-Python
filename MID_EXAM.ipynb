{
  "cells": [
    {
      "cell_type": "code",
      "execution_count": 1,
      "metadata": {
        "colab": {
          "base_uri": "https://localhost:8080/"
        },
        "id": "9TASolTQULOr",
        "outputId": "8ddb8762-db00-4b9c-b2c1-32fcf11adf17"
      },
      "outputs": [
        {
          "output_type": "stream",
          "name": "stdout",
          "text": [
            "Extraction Completed\n"
          ]
        }
      ],
      "source": [
        "from zipfile import ZipFile\n",
        "zip_file='/content/archive.zip'\n",
        "with ZipFile(zip_file, 'r') as zip:\n",
        "  zip.extractall()\n",
        "  print('Extraction Completed')"
      ]
    },
    {
      "cell_type": "code",
      "execution_count": 2,
      "metadata": {
        "id": "meYr2LN5e1Th"
      },
      "outputs": [],
      "source": [
        "import os\n",
        "male_path = os.path.join('/content/Training/female')\n",
        "female_path = os.path.join('/content/Training/female')"
      ]
    },
    {
      "cell_type": "code",
      "execution_count": 3,
      "metadata": {
        "colab": {
          "base_uri": "https://localhost:8080/"
        },
        "id": "t67g_G80hSsD",
        "outputId": "48d67e9a-8bd8-48d8-a5a5-3e58a58ecda0",
        "scrolled": true
      },
      "outputs": [
        {
          "output_type": "stream",
          "name": "stdout",
          "text": [
            "Found 47009 images belonging to 2 classes.\n"
          ]
        }
      ],
      "source": [
        "from tensorflow.keras.preprocessing.image import ImageDataGenerator\n",
        "datagen = ImageDataGenerator(rescale=1/255)\n",
        "train_generator = datagen.flow_from_directory('Training', target_size=(128, 128), batch_size=256, class_mode='binary')"
      ]
    },
    {
      "cell_type": "code",
      "execution_count": 4,
      "metadata": {
        "id": "MYQTrYWDnGc0"
      },
      "outputs": [],
      "source": [
        "def getNumPics():\n",
        "    print(\"The Number Of Female Pictures =\",len(os.listdir('/content/Training/female')))\n",
        "    print(\"The Number Of Male Pictures =\",len(os.listdir('/content/Training/male')))"
      ]
    },
    {
      "cell_type": "code",
      "execution_count": 5,
      "metadata": {
        "id": "u4jX7NBZHF7G"
      },
      "outputs": [],
      "source": [
        "def getNumPics():\n",
        "    print(\"The Number Of Female Pictures =\",len(os.listdir('/content/Training/female')))\n",
        "    print(\"The Number Of Male Pictures =\",len(os.listdir('/content/Training/male')))\n",
        "\n",
        "def getNamePic(index,gender):\n",
        "    if gender == 'm' or gender == 'M':\n",
        "        female_name = os.listdir('/content/Training/female')\n",
        "        print(female_name[index])\n",
        "    elif gender == 'f' or gender == 'F':\n",
        "        male_name = os.listdir('/content/Training/male')\n",
        "        print(male_name[index])\n",
        "    else:\n",
        "        print(\"Invalid Input\")"
      ]
    },
    {
      "cell_type": "code",
      "execution_count": 6,
      "metadata": {
        "id": "RGeaSxkJNPXK"
      },
      "outputs": [],
      "source": [
        "import matplotlib.pyplot as plt\n",
        "\n",
        "def drawPics(index):#draw some pictures(male and female) in the directory from index\n",
        "\n",
        "    rows = 4\n",
        "    cols = 4\n",
        "    fig = plt.gcf()\n",
        "    fig.set_size_inches(cols * 4, rows * 4)\n",
        "\n",
        "    index += 8\n",
        "    female_name = os.listdir('/content/Training/female')\n",
        "    male_name = os.listdir('/content/Training/male')\n",
        "    next_male_pic = [os.path.join('/content/Training/male', fname)\n",
        "                for fname in male_name[index-8:index]]\n",
        "    next_female_pic = [os.path.join('/content/Training/female', fname)\n",
        "                for fname in female_name[index-8:index]]\n",
        "\n",
        "    for i, img_path in enumerate(next_male_pic+next_female_pic):\n",
        "        # Set up subplot; subplot indices start at 1\n",
        "        sp = plt.subplot(rows, cols, i + 1)\n",
        "        sp.axis('Off') # Don't show axes (or gridlines)\n",
        "\n",
        "        img = mpimg.imread(img_path)\n",
        "        plt.imshow(img)\n",
        "\n",
        "    plt.show()"
      ]
    },
    {
      "cell_type": "code",
      "execution_count": 7,
      "metadata": {
        "id": "Jw5kDptvNuMR"
      },
      "outputs": [],
      "source": [
        "def drawSoloPic(path):\n",
        "    rows = 4\n",
        "    cols = 4\n",
        "    fig = plt.gcf()\n",
        "    fig.set_size_inches(cols * 4, rows * 4)\n",
        "    sp = plt.subplot(cols, rows, 1)\n",
        "    sp.axis('Off') # Don't show axes (or gridlines)\n",
        "\n",
        "    img = mpimg.imread(path)\n",
        "    plt.imshow(img)\n",
        "\n",
        "    plt.show()"
      ]
    },
    {
      "cell_type": "code",
      "execution_count": 8,
      "metadata": {
        "colab": {
          "base_uri": "https://localhost:8080/"
        },
        "id": "Rvr-0GjGOpX_",
        "outputId": "384b0076-4f7c-4057-ece0-88860f5a9570"
      },
      "outputs": [
        {
          "output_type": "stream",
          "name": "stdout",
          "text": [
            "Model: \"sequential\"\n",
            "_________________________________________________________________\n",
            " Layer (type)                Output Shape              Param #   \n",
            "=================================================================\n",
            " conv2d (Conv2D)             (None, 126, 126, 16)      448       \n",
            "                                                                 \n",
            " max_pooling2d (MaxPooling2D  (None, 63, 63, 16)       0         \n",
            " )                                                               \n",
            "                                                                 \n",
            " conv2d_1 (Conv2D)           (None, 61, 61, 32)        4640      \n",
            "                                                                 \n",
            " max_pooling2d_1 (MaxPooling  (None, 30, 30, 32)       0         \n",
            " 2D)                                                             \n",
            "                                                                 \n",
            " conv2d_2 (Conv2D)           (None, 28, 28, 32)        9248      \n",
            "                                                                 \n",
            " max_pooling2d_2 (MaxPooling  (None, 14, 14, 32)       0         \n",
            " 2D)                                                             \n",
            "                                                                 \n",
            " conv2d_3 (Conv2D)           (None, 12, 12, 64)        18496     \n",
            "                                                                 \n",
            " max_pooling2d_3 (MaxPooling  (None, 6, 6, 64)         0         \n",
            " 2D)                                                             \n",
            "                                                                 \n",
            " conv2d_4 (Conv2D)           (None, 4, 4, 64)          36928     \n",
            "                                                                 \n",
            " max_pooling2d_4 (MaxPooling  (None, 2, 2, 64)         0         \n",
            " 2D)                                                             \n",
            "                                                                 \n",
            " flatten (Flatten)           (None, 256)               0         \n",
            "                                                                 \n",
            " dense (Dense)               (None, 128)               32896     \n",
            "                                                                 \n",
            " dense_1 (Dense)             (None, 1)                 129       \n",
            "                                                                 \n",
            "=================================================================\n",
            "Total params: 102,785\n",
            "Trainable params: 102,785\n",
            "Non-trainable params: 0\n",
            "_________________________________________________________________\n"
          ]
        }
      ],
      "source": [
        "import tensorflow as tf\n",
        "model = tf.keras.models.Sequential([\n",
        "    tf.keras.layers.Conv2D(16,(3,3),activation='relu',input_shape=(128,128,3)),\n",
        "    tf.keras.layers.MaxPooling2D(2,2),\n",
        "    tf.keras.layers.Conv2D(32,(3,3),activation='relu'),\n",
        "    tf.keras.layers.MaxPooling2D(2,2),\n",
        "    tf.keras.layers.Conv2D(32,(3,3),activation='relu'),\n",
        "    tf.keras.layers.MaxPooling2D(2,2),\n",
        "    tf.keras.layers.Conv2D(64,(3,3),activation='relu'),\n",
        "    tf.keras.layers.MaxPooling2D(2,2),\n",
        "    tf.keras.layers.Conv2D(64,(3,3),activation='relu'),\n",
        "    tf.keras.layers.MaxPooling2D(2,2),\n",
        "    tf.keras.layers.Flatten(),\n",
        "    tf.keras.layers.Dense(128,activation='relu'),\n",
        "    tf.keras.layers.Dense(1,activation='sigmoid')\n",
        "])\n",
        "model.summary()"
      ]
    },
    {
      "cell_type": "code",
      "execution_count": 10,
      "metadata": {
        "id": "cvrQRj5GOuZA",
        "colab": {
          "base_uri": "https://localhost:8080/"
        },
        "outputId": "11dd7c0a-243a-47be-9d14-f63af9053dba"
      },
      "outputs": [
        {
          "output_type": "stream",
          "name": "stdout",
          "text": [
            "1/1 [==============================] - 0s 34ms/step\n",
            "Male---------- [51.903683]\n"
          ]
        }
      ],
      "source": [
        "from tensorflow.keras.preprocessing import image\n",
        "import matplotlib.image as mpimg\n",
        "import numpy as np\n",
        "\n",
        "# predicting images\n",
        "path = '/content/Validation/male/063429.jpg.jpg'\n",
        "img = image.load_img(path, target_size=(128, 128))\n",
        "x = image.img_to_array(img)\n",
        "x /= 255\n",
        "x = np.expand_dims(x, axis=0)\n",
        "\n",
        "images = np.vstack([x])\n",
        "classes = model.predict(images, batch_size=1)\n",
        "\n",
        "if classes[0] > 0.5:\n",
        "    print(\"Male----------\", classes[0] * 100)\n",
        "else:\n",
        "    print(\"Female----------\", 100 - classes[0] * 100)"
      ]
    },
    {
      "cell_type": "code",
      "execution_count": 9,
      "metadata": {
        "id": "IJaH2tAaO65D"
      },
      "outputs": [],
      "source": []
    }
  ],
  "metadata": {
    "colab": {
      "provenance": []
    },
    "kernelspec": {
      "display_name": "Python 3",
      "language": "python",
      "name": "python3"
    },
    "language_info": {
      "codemirror_mode": {
        "name": "ipython",
        "version": 3
      },
      "file_extension": ".py",
      "mimetype": "text/x-python",
      "name": "python",
      "nbconvert_exporter": "python",
      "pygments_lexer": "ipython3",
      "version": "3.8.8"
    }
  },
  "nbformat": 4,
  "nbformat_minor": 0
}
